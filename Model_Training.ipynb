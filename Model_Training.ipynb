{
 "cells": [
  {
   "cell_type": "markdown",
   "id": "a8f78cd4-a4ec-4682-9766-3604fa1d1dca",
   "metadata": {
    "tags": []
   },
   "source": [
    "# Model Training\n",
    "This notebook creates the training, validation, and test files to be used for model training. Then, the model (BiLSTM) is trained and evaluated."
   ]
  },
  {
   "cell_type": "markdown",
   "id": "bfa6ddba-4fd8-4173-8e03-bd8ca3bc6692",
   "metadata": {
    "tags": []
   },
   "source": [
    "## Create Files"
   ]
  },
  {
   "cell_type": "code",
   "execution_count": 249,
   "id": "64287931-49da-43e8-a025-b919d63ab45b",
   "metadata": {},
   "outputs": [
    {
     "data": {
      "text/html": [
       "<div>\n",
       "<style scoped>\n",
       "    .dataframe tbody tr th:only-of-type {\n",
       "        vertical-align: middle;\n",
       "    }\n",
       "\n",
       "    .dataframe tbody tr th {\n",
       "        vertical-align: top;\n",
       "    }\n",
       "\n",
       "    .dataframe thead th {\n",
       "        text-align: right;\n",
       "    }\n",
       "</style>\n",
       "<table border=\"1\" class=\"dataframe\">\n",
       "  <thead>\n",
       "    <tr style=\"text-align: right;\">\n",
       "      <th></th>\n",
       "      <th>text</th>\n",
       "      <th>label</th>\n",
       "    </tr>\n",
       "  </thead>\n",
       "  <tbody>\n",
       "    <tr>\n",
       "      <th>3283</th>\n",
       "      <td>i often find their are no free lunches in audi...</td>\n",
       "      <td>0</td>\n",
       "    </tr>\n",
       "    <tr>\n",
       "      <th>21337</th>\n",
       "      <td>the claim would be true for younger people bec...</td>\n",
       "      <td>2</td>\n",
       "    </tr>\n",
       "    <tr>\n",
       "      <th>10474</th>\n",
       "      <td>it looks as if there is a large x in the white...</td>\n",
       "      <td>1</td>\n",
       "    </tr>\n",
       "    <tr>\n",
       "      <th>19557</th>\n",
       "      <td>they really do look like twins</td>\n",
       "      <td>2</td>\n",
       "    </tr>\n",
       "    <tr>\n",
       "      <th>8284</th>\n",
       "      <td>but until miami can pull themselves up from th...</td>\n",
       "      <td>0</td>\n",
       "    </tr>\n",
       "    <tr>\n",
       "      <th>...</th>\n",
       "      <td>...</td>\n",
       "      <td>...</td>\n",
       "    </tr>\n",
       "    <tr>\n",
       "      <th>2675</th>\n",
       "      <td>a true churning in our pastors staff and membe...</td>\n",
       "      <td>0</td>\n",
       "    </tr>\n",
       "    <tr>\n",
       "      <th>19875</th>\n",
       "      <td>i ve had some things on my mind lately but i m...</td>\n",
       "      <td>2</td>\n",
       "    </tr>\n",
       "    <tr>\n",
       "      <th>25033</th>\n",
       "      <td>these babies are really beautiful on the outsi...</td>\n",
       "      <td>2</td>\n",
       "    </tr>\n",
       "    <tr>\n",
       "      <th>24267</th>\n",
       "      <td>the corporate media types are just a bit scare...</td>\n",
       "      <td>2</td>\n",
       "    </tr>\n",
       "    <tr>\n",
       "      <th>3097</th>\n",
       "      <td>based on the tone of obama s and warren s spee...</td>\n",
       "      <td>0</td>\n",
       "    </tr>\n",
       "  </tbody>\n",
       "</table>\n",
       "<p>3000 rows × 2 columns</p>\n",
       "</div>"
      ],
      "text/plain": [
       "                                                    text  label\n",
       "3283   i often find their are no free lunches in audi...      0\n",
       "21337  the claim would be true for younger people bec...      2\n",
       "10474  it looks as if there is a large x in the white...      1\n",
       "19557                     they really do look like twins      2\n",
       "8284   but until miami can pull themselves up from th...      0\n",
       "...                                                  ...    ...\n",
       "2675   a true churning in our pastors staff and membe...      0\n",
       "19875  i ve had some things on my mind lately but i m...      2\n",
       "25033  these babies are really beautiful on the outsi...      2\n",
       "24267  the corporate media types are just a bit scare...      2\n",
       "3097   based on the tone of obama s and warren s spee...      0\n",
       "\n",
       "[3000 rows x 2 columns]"
      ]
     },
     "execution_count": 249,
     "metadata": {},
     "output_type": "execute_result"
    }
   ],
   "source": [
    "import pandas as pd\n",
    "\n",
    "folder = 'project_files'\n",
    "train_df = pd.read_csv(f'{folder}/their_there_theyre_train.csv')[['clean_text', 'label']].sample(frac=1)\n",
    "train_df.columns = ['text', 'label']\n",
    "\n",
    "test_df = pd.read_csv(f'{folder}/their_there_theyre_test.csv')[['clean_text', 'label']].sample(frac=1)\n",
    "test_df.columns = ['text', 'label']\n",
    "\n",
    "def split(df, split_index):\n",
    "    return df[0:split_index], df[split_index:len(df)]\n",
    "train_df, val_df = split(train_df, 24000)\n",
    "val_df"
   ]
  },
  {
   "cell_type": "code",
   "execution_count": 250,
   "id": "26afb546-6c34-4e8b-a456-d7398436898b",
   "metadata": {},
   "outputs": [],
   "source": [
    "# prepare actual files for classification\n",
    "train_df.to_csv(f\"{folder}/train.csv\", index=False)\n",
    "val_df.to_csv(f\"{folder}/val.csv\", index=False)\n",
    "test_df.to_csv(f\"{folder}/test.csv\", index=False)"
   ]
  },
  {
   "cell_type": "code",
   "execution_count": 299,
   "id": "f1a8a764-b4f5-4d52-bb92-f81130af3b3f",
   "metadata": {},
   "outputs": [
    {
     "name": "stdout",
     "output_type": "stream",
     "text": [
      "24000\n",
      "3000\n",
      "3000\n"
     ]
    }
   ],
   "source": [
    "import pandas as pd\n",
    "\n",
    "print(len(train_df))\n",
    "print(len(val_df))\n",
    "print(len(test_df))"
   ]
  },
  {
   "cell_type": "markdown",
   "id": "38c8124e-78b1-495d-8bf9-18c71c950c26",
   "metadata": {},
   "source": [
    "## Prepare Data"
   ]
  },
  {
   "cell_type": "code",
   "execution_count": 252,
   "id": "f2036f4d-553b-4fd5-a2da-40313b9e18ad",
   "metadata": {},
   "outputs": [],
   "source": [
    "# Libraries\n",
    "import pandas as pd\n",
    "import torch\n",
    "\n",
    "# Preliminaries\n",
    "from torchtext.data import Field, TabularDataset, BucketIterator\n",
    "device = torch.device(\"cuda\" if torch.cuda.is_available() else \"cpu\")\n",
    "\n",
    "# Models\n",
    "import torch.nn as nn\n",
    "from torch.nn.utils.rnn import pack_padded_sequence, pad_packed_sequence\n",
    "\n",
    "# Training\n",
    "import torch.optim as optim\n",
    "\n",
    "# Evaluation\n",
    "from sklearn.metrics import accuracy_score, classification_report, confusion_matrix"
   ]
  },
  {
   "cell_type": "code",
   "execution_count": 253,
   "id": "6c336205-e520-41f3-96b5-80b87970c498",
   "metadata": {},
   "outputs": [],
   "source": [
    "# Fields\n",
    "label_field = Field(sequential=False, use_vocab=False, batch_first=True, dtype=torch.long) # or dtype=torch.long\n",
    "text_field = Field(include_lengths=True, batch_first=True, lower=True) # tokenize='spacy', tokenizer_language=\"en_core_web_sm\",\n",
    "fields = [('text', text_field), ('label', label_field)]\n",
    "\n",
    "# TabularDataset\n",
    "folder = 'Vantage_Labs_Project_Files'\n",
    "train, valid, test = TabularDataset.splits(path=folder, train=\"train.csv\", validation=\"val.csv\", test=\"test.csv\",\n",
    "                                           format='CSV', fields=fields, skip_header=True)\n",
    "\n",
    "# Iterators\n",
    "BATCH_SIZE = 32\n",
    "train_iter = BucketIterator(train, batch_size=BATCH_SIZE, sort_key=lambda x: len(x.text),\n",
    "                            device=device, sort=True, sort_within_batch=True)\n",
    "valid_iter = BucketIterator(valid, batch_size=BATCH_SIZE, sort_key=lambda x: len(x.text),\n",
    "                            device=device, sort=True, sort_within_batch=True)\n",
    "test_iter = BucketIterator(test, batch_size=BATCH_SIZE, sort_key=lambda x: len(x.text),\n",
    "                            device=device, sort=True, sort_within_batch=True)\n",
    "\n",
    "# Vocabulary\n",
    "text_field.build_vocab(train, min_freq=3)\n",
    "# text_field.build_vocab(train, vectors=\"glove.6B.100d\")"
   ]
  },
  {
   "cell_type": "code",
   "execution_count": 271,
   "id": "62e870f6-a491-4944-87fe-71c9e28f68de",
   "metadata": {},
   "outputs": [
    {
     "data": {
      "text/plain": [
       "750"
      ]
     },
     "execution_count": 271,
     "metadata": {},
     "output_type": "execute_result"
    }
   ],
   "source": [
    "len(train_iter)"
   ]
  },
  {
   "cell_type": "code",
   "execution_count": 272,
   "id": "5cea6707-536e-4370-95c1-2a8bae351640",
   "metadata": {},
   "outputs": [
    {
     "data": {
      "text/plain": [
       "12645"
      ]
     },
     "execution_count": 272,
     "metadata": {},
     "output_type": "execute_result"
    }
   ],
   "source": [
    "len(text_field.vocab)"
   ]
  },
  {
   "cell_type": "markdown",
   "id": "c8bdfb78-1023-4b0b-ab2a-680cbe3658e0",
   "metadata": {},
   "source": [
    "## Define Model and Evaluation Functions"
   ]
  },
  {
   "cell_type": "code",
   "execution_count": 273,
   "id": "342683e4-70a9-471f-b33e-c776bf06f4e2",
   "metadata": {},
   "outputs": [],
   "source": [
    "class LSTM(nn.Module):\n",
    "    def __init__(self, dimension=128):\n",
    "        super(LSTM, self).__init__()\n",
    "\n",
    "        self.embedding = nn.Embedding(len(text_field.vocab), 300)\n",
    "        self.dimension = dimension\n",
    "        self.lstm = nn.LSTM(input_size=300, # 300\n",
    "                            hidden_size=dimension,\n",
    "                            num_layers=1,\n",
    "                            batch_first=True,\n",
    "                            bidirectional=True)\n",
    "        self.linear = nn.Linear(dimension, 3)\n",
    "        self.drop = nn.Dropout(p=0.2) # 0.5 \n",
    "    \n",
    "    def forward(self, x, l):\n",
    "        x = self.embedding(x)\n",
    "        x = self.drop(x)\n",
    "        lstm_out, (ht, ct) = self.lstm(x)\n",
    "        return self.linear(ht[-1])"
   ]
  },
  {
   "cell_type": "code",
   "execution_count": 274,
   "id": "2901e676-1ef8-4d05-9662-03f4157426f8",
   "metadata": {
    "tags": []
   },
   "outputs": [],
   "source": [
    "# Save and Load Functions # https://towardsdatascience.com/lstm-text-classification-using-pytorch-2c6c657f8fc0\n",
    "def save_checkpoint(save_path, model, optimizer, valid_loss):\n",
    "    if save_path == None:\n",
    "        return\n",
    "    state_dict = {'model_state_dict': model.state_dict(),\n",
    "                  'optimizer_state_dict': optimizer.state_dict(),\n",
    "                  'valid_loss': valid_loss}\n",
    "    torch.save(state_dict, save_path)\n",
    "    print(f'Model saved to ==> {save_path}')\n",
    "\n",
    "def load_checkpoint(load_path, model, optimizer):\n",
    "    if load_path==None:\n",
    "        return\n",
    "    state_dict = torch.load(load_path, map_location=device)\n",
    "    print(f'Model loaded from <== {load_path}')\n",
    "    \n",
    "    model.load_state_dict(state_dict['model_state_dict'])\n",
    "    optimizer.load_state_dict(state_dict['optimizer_state_dict'])\n",
    "    \n",
    "    return state_dict['valid_loss']\n",
    "\n",
    "def save_metrics(save_path, train_loss_list, valid_loss_list, global_steps_list):\n",
    "    if save_path == None:\n",
    "        return\n",
    "    state_dict = {'train_loss_list': train_loss_list,\n",
    "                  'valid_loss_list': valid_loss_list,\n",
    "                  'global_steps_list': global_steps_list}\n",
    "    torch.save(state_dict, save_path)\n",
    "    print(f'Model saved to ==> {save_path}')\n",
    "\n",
    "def load_metrics(load_path):\n",
    "    if load_path==None:\n",
    "        return\n",
    "    state_dict = torch.load(load_path, map_location=device)\n",
    "    print(f'Model loaded from <== {load_path}')\n",
    "    return state_dict['train_loss_list'], state_dict['valid_loss_list'], state_dict['global_steps_list']"
   ]
  },
  {
   "cell_type": "markdown",
   "id": "adef2aea-9afc-4db5-b3e6-05bee81f0538",
   "metadata": {},
   "source": [
    "## Training and Evaluation"
   ]
  },
  {
   "cell_type": "code",
   "execution_count": 276,
   "id": "78acaed8-2bce-4e13-a786-d2875bfe9c76",
   "metadata": {},
   "outputs": [
    {
     "name": "stdout",
     "output_type": "stream",
     "text": [
      "Epoch [1/10], Step [375/7500], Train Loss: 0.9407, Valid Loss: 0.8235\n",
      "Model saved to ==> Vantage_Labs_Project_Files/model.pt\n",
      "Model saved to ==> Vantage_Labs_Project_Files/metrics.pt\n",
      "Epoch [1/10], Step [750/7500], Train Loss: 0.8206, Valid Loss: 0.7488\n",
      "Model saved to ==> Vantage_Labs_Project_Files/model.pt\n",
      "Model saved to ==> Vantage_Labs_Project_Files/metrics.pt\n",
      "Epoch [2/10], Step [1125/7500], Train Loss: 0.7058, Valid Loss: 0.7066\n",
      "Model saved to ==> Vantage_Labs_Project_Files/model.pt\n",
      "Model saved to ==> Vantage_Labs_Project_Files/metrics.pt\n",
      "Epoch [2/10], Step [1500/7500], Train Loss: 0.7025, Valid Loss: 0.6945\n",
      "Model saved to ==> Vantage_Labs_Project_Files/model.pt\n",
      "Model saved to ==> Vantage_Labs_Project_Files/metrics.pt\n",
      "Epoch [3/10], Step [1875/7500], Train Loss: 0.6571, Valid Loss: 0.6701\n",
      "Model saved to ==> Vantage_Labs_Project_Files/model.pt\n",
      "Model saved to ==> Vantage_Labs_Project_Files/metrics.pt\n",
      "Epoch [3/10], Step [2250/7500], Train Loss: 0.6644, Valid Loss: 0.6533\n",
      "Model saved to ==> Vantage_Labs_Project_Files/model.pt\n",
      "Model saved to ==> Vantage_Labs_Project_Files/metrics.pt\n",
      "Epoch [4/10], Step [2625/7500], Train Loss: 0.6418, Valid Loss: 0.6490\n",
      "Model saved to ==> Vantage_Labs_Project_Files/model.pt\n",
      "Model saved to ==> Vantage_Labs_Project_Files/metrics.pt\n",
      "Epoch [4/10], Step [3000/7500], Train Loss: 0.6503, Valid Loss: 0.6441\n",
      "Model saved to ==> Vantage_Labs_Project_Files/model.pt\n",
      "Model saved to ==> Vantage_Labs_Project_Files/metrics.pt\n",
      "Epoch [5/10], Step [3375/7500], Train Loss: 0.6333, Valid Loss: 0.6439\n",
      "Model saved to ==> Vantage_Labs_Project_Files/model.pt\n",
      "Model saved to ==> Vantage_Labs_Project_Files/metrics.pt\n",
      "Epoch [5/10], Step [3750/7500], Train Loss: 0.6503, Valid Loss: 0.6422\n",
      "Model saved to ==> Vantage_Labs_Project_Files/model.pt\n",
      "Model saved to ==> Vantage_Labs_Project_Files/metrics.pt\n",
      "Epoch [6/10], Step [4125/7500], Train Loss: 0.6330, Valid Loss: 0.6419\n",
      "Model saved to ==> Vantage_Labs_Project_Files/model.pt\n",
      "Model saved to ==> Vantage_Labs_Project_Files/metrics.pt\n",
      "Epoch [6/10], Step [4500/7500], Train Loss: 0.6358, Valid Loss: 0.6387\n",
      "Model saved to ==> Vantage_Labs_Project_Files/model.pt\n",
      "Model saved to ==> Vantage_Labs_Project_Files/metrics.pt\n",
      "Epoch [7/10], Step [4875/7500], Train Loss: 0.6246, Valid Loss: 0.6374\n",
      "Model saved to ==> Vantage_Labs_Project_Files/model.pt\n",
      "Model saved to ==> Vantage_Labs_Project_Files/metrics.pt\n",
      "Epoch [7/10], Step [5250/7500], Train Loss: 0.6321, Valid Loss: 0.6367\n",
      "Model saved to ==> Vantage_Labs_Project_Files/model.pt\n",
      "Model saved to ==> Vantage_Labs_Project_Files/metrics.pt\n",
      "Epoch [8/10], Step [5625/7500], Train Loss: 0.6210, Valid Loss: 0.6291\n",
      "Model saved to ==> Vantage_Labs_Project_Files/model.pt\n",
      "Model saved to ==> Vantage_Labs_Project_Files/metrics.pt\n",
      "Epoch [8/10], Step [6000/7500], Train Loss: 0.6257, Valid Loss: 0.6280\n",
      "Model saved to ==> Vantage_Labs_Project_Files/model.pt\n",
      "Model saved to ==> Vantage_Labs_Project_Files/metrics.pt\n",
      "Epoch [9/10], Step [6375/7500], Train Loss: 0.6185, Valid Loss: 0.6263\n",
      "Model saved to ==> Vantage_Labs_Project_Files/model.pt\n",
      "Model saved to ==> Vantage_Labs_Project_Files/metrics.pt\n",
      "Epoch [9/10], Step [6750/7500], Train Loss: 0.6246, Valid Loss: 0.6226\n",
      "Model saved to ==> Vantage_Labs_Project_Files/model.pt\n",
      "Model saved to ==> Vantage_Labs_Project_Files/metrics.pt\n",
      "Epoch [10/10], Step [7125/7500], Train Loss: 0.6153, Valid Loss: 0.6216\n",
      "Model saved to ==> Vantage_Labs_Project_Files/model.pt\n",
      "Model saved to ==> Vantage_Labs_Project_Files/metrics.pt\n",
      "Epoch [10/10], Step [7500/7500], Train Loss: 0.6187, Valid Loss: 0.6202\n",
      "Model saved to ==> Vantage_Labs_Project_Files/model.pt\n",
      "Model saved to ==> Vantage_Labs_Project_Files/metrics.pt\n",
      "Model saved to ==> Vantage_Labs_Project_Files/metrics.pt\n",
      "Finished Training!\n"
     ]
    }
   ],
   "source": [
    "# Training Function\n",
    "def train(model,\n",
    "          optimizer,\n",
    "          # criterion = nn.NLLLoss(),\n",
    "          criterion = nn.CrossEntropyLoss,\n",
    "          # criterion = nn.BCELoss(),\n",
    "          train_loader = train_iter,\n",
    "          valid_loader = valid_iter,\n",
    "          num_epochs = 5,\n",
    "          eval_every = len(train_iter) // 2,\n",
    "          file_path = 'Vantage_Labs_Project_Files',\n",
    "          best_valid_loss = float(\"Inf\")):\n",
    "    \n",
    "    # initialize running values\n",
    "    running_loss = 0.0\n",
    "    valid_running_loss = 0.0\n",
    "    global_step = 0\n",
    "    train_loss_list = []\n",
    "    valid_loss_list = []\n",
    "    global_steps_list = []\n",
    "\n",
    "    # training loop\n",
    "    model.train()\n",
    "    for epoch in range(num_epochs):\n",
    "        for x in train_loader: # , (text, text_len)), _ \n",
    "            labels = x.label.to(device)\n",
    "            text = x.text[0].to(device)\n",
    "            len_text = x.text[1].cpu() # https://github.com/pytorch/pytorch/issues/43227\n",
    "            \n",
    "            output = model(text, len_text)\n",
    "            output = torch.softmax(output, dim=1)\n",
    "            # print(output)\n",
    "            # print(labels)\n",
    "            CEL = criterion()\n",
    "            loss = CEL(output, labels)\n",
    "            optimizer.zero_grad()\n",
    "            loss.backward()\n",
    "            optimizer.step()\n",
    "\n",
    "            # update running values\n",
    "            running_loss += loss.item()\n",
    "            global_step += 1\n",
    "\n",
    "            # evaluation step\n",
    "            if global_step % eval_every == 0:\n",
    "                model.eval()\n",
    "                with torch.no_grad():                    \n",
    "                  # validation loop\n",
    "                  for y in valid_loader:\n",
    "                    labels = y.label.to(device)\n",
    "                    text = y.text[0].to(device)\n",
    "                    len_text = y.text[1].cpu()\n",
    "                    # text_len = text_len.to(device)\n",
    "                    output = model(text, len_text)\n",
    "                    output = torch.softmax(output, dim=1)\n",
    "                    \n",
    "                    CEL = criterion()\n",
    "                    loss = CEL(output, labels)\n",
    "                    valid_running_loss += loss.item()\n",
    "\n",
    "                # evaluation\n",
    "                average_train_loss = running_loss / eval_every\n",
    "                average_valid_loss = valid_running_loss / len(valid_loader)\n",
    "                train_loss_list.append(average_train_loss)\n",
    "                valid_loss_list.append(average_valid_loss)\n",
    "                global_steps_list.append(global_step)\n",
    "\n",
    "                # resetting running values\n",
    "                running_loss = 0.0                \n",
    "                valid_running_loss = 0.0\n",
    "                model.train()\n",
    "\n",
    "                # print progress\n",
    "                print('Epoch [{}/{}], Step [{}/{}], Train Loss: {:.4f}, Valid Loss: {:.4f}'\n",
    "                      .format(epoch+1, num_epochs, global_step, num_epochs*len(train_loader),\n",
    "                              average_train_loss, average_valid_loss))\n",
    "                \n",
    "                # checkpoint\n",
    "                if best_valid_loss > average_valid_loss:\n",
    "                    best_valid_loss = average_valid_loss\n",
    "                    save_checkpoint(file_path + '/model.pt', model, optimizer, best_valid_loss)\n",
    "                    save_metrics(file_path + '/metrics.pt', train_loss_list, valid_loss_list, global_steps_list)\n",
    "    \n",
    "    save_metrics(file_path + '/metrics.pt', train_loss_list, valid_loss_list, global_steps_list)\n",
    "    print('Finished Training!')\n",
    "\n",
    "model = LSTM().to(device)\n",
    "optimizer = optim.Adam(model.parameters(), lr=1e-4)\n",
    "\n",
    "train(model=model, optimizer=optimizer, num_epochs=10)"
   ]
  },
  {
   "cell_type": "code",
   "execution_count": 277,
   "id": "f94fd341-7a68-43e7-9e85-2b12f901f966",
   "metadata": {},
   "outputs": [
    {
     "name": "stdout",
     "output_type": "stream",
     "text": [
      "Model loaded from <== Vantage_Labs_Project_Files/metrics.pt\n"
     ]
    },
    {
     "data": {
      "image/png": "[encoded data removed]",
      "text/plain": [
       "<Figure size 640x480 with 1 Axes>"
      ]
     },
     "metadata": {},
     "output_type": "display_data"
    }
   ],
   "source": [
    "import matplotlib.pyplot as plt\n",
    "\n",
    "train_loss_list, valid_loss_list, global_steps_list = load_metrics(folder + '/metrics.pt')\n",
    "plt.plot(global_steps_list, train_loss_list, label='Train')\n",
    "plt.plot(global_steps_list, valid_loss_list, label='Valid')\n",
    "plt.xlabel('Global Steps')\n",
    "plt.ylabel('Loss')\n",
    "plt.legend()\n",
    "plt.show() "
   ]
  },
  {
   "cell_type": "code",
   "execution_count": 298,
   "id": "bfc639ba-c41b-4d1c-b7e5-b049d62f4e66",
   "metadata": {},
   "outputs": [
    {
     "name": "stdout",
     "output_type": "stream",
     "text": [
      "Model loaded from <== Vantage_Labs_Project_Files/model.pt\n",
      "Classification Report:\n",
      "              precision    recall  f1-score   support\n",
      "\n",
      "           0     0.9185    0.9130    0.9157      1000\n",
      "           1     0.9091    0.9100    0.9095      1000\n",
      "           2     0.9851    0.9900    0.9875      1000\n",
      "\n",
      "    accuracy                         0.9377      3000\n",
      "   macro avg     0.9376    0.9377    0.9376      3000\n",
      "weighted avg     0.9376    0.9377    0.9376      3000\n",
      "\n"
     ]
    }
   ],
   "source": [
    "# Evaluation Function\n",
    "def evaluate(model, test_loader):\n",
    "    y_pred = []\n",
    "    y_true = []\n",
    "\n",
    "    model.eval()\n",
    "    with torch.no_grad():\n",
    "        for x in test_loader:           \n",
    "            labels = x.label.to(device)\n",
    "            text = x.text[0].to(device)\n",
    "            len_text = x.text[1].cpu()\n",
    "            output = model(text, len_text)\n",
    "            # print(output)\n",
    "            # print(output)\n",
    "            preds = torch.argmax(output, dim=1)\n",
    "            # print(preds)\n",
    "            # print(labels)\n",
    "            # output = (output > threshold).int()\n",
    "            y_pred.extend(preds.tolist())\n",
    "            y_true.extend(labels.tolist())\n",
    "    \n",
    "    print('Classification Report:')\n",
    "    print(classification_report(y_true, y_pred, labels=[0,1,2], digits=4))\n",
    "    \n",
    "best_model = LSTM().to(device)\n",
    "optimizer = optim.Adam(best_model.parameters(), lr=0.0001)\n",
    "\n",
    "load_checkpoint(folder + '/model.pt', best_model, optimizer)\n",
    "evaluate(best_model, test_iter)"
   ]
  },
  {
   "cell_type": "markdown",
   "id": "cbf637ab-ae77-4a70-8cd9-0cf9527d2dbf",
   "metadata": {},
   "source": [
    "## References:\n",
    "https://pytorch.org/docs/master/generated/torch.nn.LSTM.html#torch.nn.LSTM\n",
    "\n",
    "https://towardsdatascience.com/lstm-text-classification-using-pytorch-2c6c657f8fc0\n",
    "\n",
    "https://towardsdatascience.com/multiclass-text-classification-using-lstm-in-pytorch-eac56baed8df\n",
    "\n",
    "https://torchtext.readthedocs.io/en/latest/data.html#tabulardataset\n",
    "\n",
    "https://anie.me/On-Torchtext/\n",
    "\n",
    "https://github.com/pytorch/pytorch/issues/43227\n",
    "\n",
    "https://towardsdatascience.com/cross-entropy-negative-log-likelihood-and-all-that-jazz-47a95bd2e81\n",
    "\n",
    "https://pytorch.org/tutorials/beginner/nlp/sequence_models_tutorial.html#lstm-s-in-pytorch"
   ]
  },
  {
   "cell_type": "code",
   "execution_count": null,
   "id": "5041f73c-5025-40ee-9b96-a8056ad06c40",
   "metadata": {},
   "outputs": [],
   "source": []
  }
 ],
 "metadata": {
  "kernelspec": {
   "display_name": "torch_env",
   "language": "python",
   "name": "torch_env"
  },
  "language_info": {
   "codemirror_mode": {
    "name": "ipython",
    "version": 3
   },
   "file_extension": ".py",
   "mimetype": "text/x-python",
   "name": "python",
   "nbconvert_exporter": "python",
   "pygments_lexer": "ipython3",
   "version": "3.11.5"
  }
 },
 "nbformat": 4,
 "nbformat_minor": 5
}
